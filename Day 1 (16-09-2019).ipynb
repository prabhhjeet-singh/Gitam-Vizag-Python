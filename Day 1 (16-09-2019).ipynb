{
 "cells": [
  {
   "cell_type": "markdown",
   "metadata": {},
   "source": [
    "# Python Programming and Markdown\n",
    "- Point 1\n",
    "- Point 2\n",
    "- Point 3\n",
    "    - Subpoint 1\n",
    "    - Subpoint 2"
   ]
  },
  {
   "cell_type": "markdown",
   "metadata": {},
   "source": [
    "- *Italics*\n",
    "- **Bold**\n",
    "- ***Combination of Bold and Italics***"
   ]
  },
  {
   "cell_type": "markdown",
   "metadata": {},
   "source": [
    "<img src = 'python.png'>"
   ]
  },
  {
   "cell_type": "markdown",
   "metadata": {},
   "source": [
    "## Adding link \n",
    "* Google Site - [Google][1]\n",
    "[1]:htttp://www.google.com"
   ]
  },
  {
   "cell_type": "markdown",
   "metadata": {},
   "source": [
    "## Python Programming\n",
    "- Python Version 2.7\n",
    "- Functional Programming\n",
    "- OOP\n",
    "- Scripting Programming"
   ]
  },
  {
   "cell_type": "code",
   "execution_count": 1,
   "metadata": {},
   "outputs": [
    {
     "name": "stdout",
     "output_type": "stream",
     "text": [
      "Hello World\n"
     ]
    }
   ],
   "source": [
    "print(\"Hello World\")"
   ]
  },
  {
   "cell_type": "code",
   "execution_count": 2,
   "metadata": {},
   "outputs": [
    {
     "name": "stdout",
     "output_type": "stream",
     "text": [
      "Hello Gitam\n",
      "Vizag\n"
     ]
    }
   ],
   "source": [
    "print(\"Hello Gitam\")\n",
    "print(\"Vizag\")"
   ]
  },
  {
   "cell_type": "code",
   "execution_count": 42,
   "metadata": {},
   "outputs": [
    {
     "name": "stdout",
     "output_type": "stream",
     "text": [
      "Hello Gitam Vizag\n"
     ]
    }
   ],
   "source": [
    "print(\"Hello Gitam\"),\n",
    "print(\"Vizag\")"
   ]
  },
  {
   "cell_type": "markdown",
   "metadata": {},
   "source": [
    "## Data Types and Conversions\n",
    "- int\n",
    "- float \n",
    "- string"
   ]
  },
  {
   "cell_type": "code",
   "execution_count": 32,
   "metadata": {},
   "outputs": [
    {
     "name": "stdout",
     "output_type": "stream",
     "text": [
      "100\n",
      "Python Programming\n",
      "<type 'int'>\n",
      "<type 'str'>\n",
      "<type 'str'>\n"
     ]
    }
   ],
   "source": [
    "a = 100\n",
    "string1 = \"Python Programming\"\n",
    "string2 = 'a'\n",
    "print(a)\n",
    "print(string1)\n",
    "print(type(a))\n",
    "print(type(string1))\n",
    "print(type(string2))"
   ]
  },
  {
   "cell_type": "markdown",
   "metadata": {},
   "source": [
    "## Data Type Conversions\n",
    "- int()\n",
    "- float()\n",
    "- str()"
   ]
  },
  {
   "cell_type": "code",
   "execution_count": 35,
   "metadata": {},
   "outputs": [
    {
     "name": "stdout",
     "output_type": "stream",
     "text": [
      "(100, <type 'int'>)\n",
      "('100', <type 'str'>)\n"
     ]
    }
   ],
   "source": [
    "a = 100\n",
    "print(a, type(a))\n",
    "s1 = str(a)\n",
    "print(s1, type(s1))"
   ]
  },
  {
   "cell_type": "code",
   "execution_count": 20,
   "metadata": {},
   "outputs": [
    {
     "name": "stdout",
     "output_type": "stream",
     "text": [
      "('100', <type 'str'>)\n",
      "(100, <type 'int'>)\n",
      "(100.0, <type 'float'>)\n"
     ]
    }
   ],
   "source": [
    "s1 = \"100\"\n",
    "print(s1, type(s1))\n",
    "a1 = int(s1)\n",
    "print(a, type(a))\n",
    "print(float(s1), type(float(s1)))"
   ]
  },
  {
   "cell_type": "code",
   "execution_count": 36,
   "metadata": {},
   "outputs": [
    {
     "name": "stdout",
     "output_type": "stream",
     "text": [
      "4\n"
     ]
    }
   ],
   "source": [
    "# number of digits in a number\n",
    "a = 1234\n",
    "print(len(str(a)))"
   ]
  },
  {
   "cell_type": "markdown",
   "metadata": {},
   "source": [
    "### Input() Function\n",
    "- Reads the input to the Python Program\n",
    "- Reads the input in terms of string"
   ]
  },
  {
   "cell_type": "code",
   "execution_count": 31,
   "metadata": {},
   "outputs": [
    {
     "name": "stdout",
     "output_type": "stream",
     "text": [
      "Enter namePrabhjeet\n",
      "('Prabhjeet', <type 'str'>)\n"
     ]
    }
   ],
   "source": [
    "name = raw_input(\"Enter name\")\n",
    "print(name, type(name))"
   ]
  },
  {
   "cell_type": "code",
   "execution_count": 27,
   "metadata": {},
   "outputs": [
    {
     "name": "stdout",
     "output_type": "stream",
     "text": [
      "Enter a number: 10\n",
      "(10, <type 'int'>)\n"
     ]
    }
   ],
   "source": [
    "num = int(input(\"Enter a number: \"))\n",
    "print(num, type(num))"
   ]
  },
  {
   "cell_type": "markdown",
   "metadata": {},
   "source": [
    "## Opertors \n",
    "- +\n",
    "- /\n",
    "- *\n",
    "- -\n",
    "- %\n",
    "- **\n",
    "- //"
   ]
  },
  {
   "cell_type": "code",
   "execution_count": 41,
   "metadata": {},
   "outputs": [
    {
     "name": "stdout",
     "output_type": "stream",
     "text": [
      "3\n",
      "81\n"
     ]
    }
   ],
   "source": [
    "print(10//3)\n",
    "print(3**4)"
   ]
  },
  {
   "cell_type": "markdown",
   "metadata": {},
   "source": [
    "## Logical Operators\n",
    "- and\n",
    "- or\n",
    "- not"
   ]
  },
  {
   "cell_type": "code",
   "execution_count": 45,
   "metadata": {},
   "outputs": [
    {
     "name": "stdout",
     "output_type": "stream",
     "text": [
      "True <type 'bool'>\n",
      "False <type 'bool'>\n"
     ]
    }
   ],
   "source": [
    "a = 10\n",
    "b = (a > 9) and (a >= 10)\n",
    "print(b),\n",
    "print(type(b))\n",
    "b = (a < 9) and (a <= 10)\n",
    "print(b),\n",
    "print(type(b))"
   ]
  },
  {
   "cell_type": "markdown",
   "metadata": {},
   "source": [
    "## Control Flow Statements\n",
    "- Conditional Statements\n",
    "    - if - else\n",
    "- Looping Statements\n",
    "    - while\n",
    "    - for"
   ]
  },
  {
   "cell_type": "code",
   "execution_count": 47,
   "metadata": {},
   "outputs": [
    {
     "name": "stdout",
     "output_type": "stream",
     "text": [
      "12\n",
      "Even\n"
     ]
    }
   ],
   "source": [
    "num = int(input())\n",
    "if(num % 2 == 0):\n",
    "    print(\"Even\")\n",
    "else:\n",
    "    print(\"Odd\")"
   ]
  },
  {
   "cell_type": "code",
   "execution_count": 51,
   "metadata": {},
   "outputs": [
    {
     "name": "stdout",
     "output_type": "stream",
     "text": [
      "-10\n",
      "Negative\n"
     ]
    }
   ],
   "source": [
    "num = int(input())\n",
    "if(num == 0):\n",
    "    print(\"0\")\n",
    "elif(num > 0):\n",
    "    print(\"Positive\")\n",
    "else:\n",
    "    print(\"Negative\")"
   ]
  },
  {
   "cell_type": "markdown",
   "metadata": {},
   "source": [
    "_abcd_"
   ]
  }
 ],
 "metadata": {
  "kernelspec": {
   "display_name": "Python 2",
   "language": "python",
   "name": "python2"
  },
  "language_info": {
   "codemirror_mode": {
    "name": "ipython",
    "version": 2
   },
   "file_extension": ".py",
   "mimetype": "text/x-python",
   "name": "python",
   "nbconvert_exporter": "python",
   "pygments_lexer": "ipython2",
   "version": "2.7.15"
  }
 },
 "nbformat": 4,
 "nbformat_minor": 2
}
