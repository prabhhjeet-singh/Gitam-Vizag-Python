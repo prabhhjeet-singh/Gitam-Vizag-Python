{
 "cells": [
  {
   "cell_type": "markdown",
   "metadata": {},
   "source": [
    "## String Boolean Function"
   ]
  },
  {
   "cell_type": "code",
   "execution_count": 5,
   "metadata": {},
   "outputs": [
    {
     "data": {
      "text/plain": [
       "True"
      ]
     },
     "execution_count": 5,
     "metadata": {},
     "output_type": "execute_result"
    }
   ],
   "source": [
    "string = \"Python Program\"\n",
    "string.istitle()"
   ]
  },
  {
   "cell_type": "code",
   "execution_count": 8,
   "metadata": {},
   "outputs": [
    {
     "name": "stdout",
     "output_type": "stream",
     "text": [
      "True\n"
     ]
    }
   ],
   "source": [
    "string = \"12344\"\n",
    "print(string.isdigit())"
   ]
  },
  {
   "cell_type": "code",
   "execution_count": 14,
   "metadata": {},
   "outputs": [
    {
     "name": "stdout",
     "output_type": "stream",
     "text": [
      "True\n",
      "False\n"
     ]
    }
   ],
   "source": [
    "print(\"ancsjdhkqjhd\".isalpha())\n",
    "print(\"abcd1234\".isalpha())"
   ]
  },
  {
   "cell_type": "code",
   "execution_count": 18,
   "metadata": {},
   "outputs": [
    {
     "name": "stdout",
     "output_type": "stream",
     "text": [
      "False\n",
      "True\n",
      "True\n",
      "False\n"
     ]
    }
   ],
   "source": [
    "print(\"\".isspace())\n",
    "print(\" \".isspace())\n",
    "print(\"      \".isspace())\n",
    "print(\"12   \".isspace())"
   ]
  },
  {
   "cell_type": "code",
   "execution_count": 22,
   "metadata": {},
   "outputs": [
    {
     "name": "stdout",
     "output_type": "stream",
     "text": [
      "I am not a terrorist\n"
     ]
    }
   ],
   "source": [
    "s1 = \"I am a terrorist\"\n",
    "print(s1.replace(\"am\", \"am not\"))"
   ]
  },
  {
   "cell_type": "code",
   "execution_count": 29,
   "metadata": {},
   "outputs": [
    {
     "name": "stdout",
     "output_type": "stream",
     "text": [
      "The output is 10\n"
     ]
    }
   ],
   "source": [
    "a = 10\n",
    "print(\"The output is %i\" % a)"
   ]
  },
  {
   "cell_type": "code",
   "execution_count": 30,
   "metadata": {},
   "outputs": [
    {
     "name": "stdout",
     "output_type": "stream",
     "text": [
      "The value of a is 10 \n",
      "The Value of b is 20\n"
     ]
    }
   ],
   "source": [
    "a = 10\n",
    "b = 20\n",
    "print(\"The value of a is {0} \\nThe Value of b is {1}\".format(a,b))"
   ]
  },
  {
   "cell_type": "markdown",
   "metadata": {},
   "source": [
    "## Data Structures\n",
    "- List\n",
    "- Tuples\n",
    "- Dictionaries"
   ]
  },
  {
   "cell_type": "code",
   "execution_count": 40,
   "metadata": {},
   "outputs": [
    {
     "name": "stdout",
     "output_type": "stream",
     "text": [
      "{'Gender': 'Fluid', 'Name': 'Prabhjeet Singh'}\n",
      "Fluid\n",
      "['Gender', 'Name']\n",
      "['Fluid', 'Prabhjeet Singh']\n",
      "{'Name': 'Prabhjeet Singh'}\n"
     ]
    }
   ],
   "source": [
    "d1 = {\"Name\":\"Prabhjeet Singh\", \"Gender\":\"Fluid\"}\n",
    "print(d1)\n",
    "print(d1[\"Gender\"])\n",
    "print(d1.keys())\n",
    "print(d1.values())\n",
    "del d1[\"Gender\"]\n",
    "print(d1)\n",
    "del d1"
   ]
  },
  {
   "cell_type": "markdown",
   "metadata": {},
   "source": [
    "## Contact Application\n",
    "- Add Contact Details"
   ]
  },
  {
   "cell_type": "code",
   "execution_count": 43,
   "metadata": {},
   "outputs": [
    {
     "name": "stdout",
     "output_type": "stream",
     "text": [
      "Details added\n"
     ]
    }
   ],
   "source": [
    "contacts = {}\n",
    "\n",
    "#function to add contact \n",
    "def addContacts(name, phone):\n",
    "    if (name not in contacts.keys()):\n",
    "        contacts[name] = phone\n",
    "        print(\"Details added\")\n",
    "    else:\n",
    "        print(\"Name already exists\")\n",
    "        \n",
    "addContacts(\"Vikas\", \"1233456789\")"
   ]
  },
  {
   "cell_type": "code",
   "execution_count": 45,
   "metadata": {},
   "outputs": [
    {
     "data": {
      "text/plain": [
       "{'Vikas': '1233456789'}"
      ]
     },
     "execution_count": 45,
     "metadata": {},
     "output_type": "execute_result"
    }
   ],
   "source": [
    "contacts"
   ]
  },
  {
   "cell_type": "code",
   "execution_count": 46,
   "metadata": {},
   "outputs": [
    {
     "name": "stdout",
     "output_type": "stream",
     "text": [
      "Name already exists\n"
     ]
    }
   ],
   "source": [
    "addContacts(\"Vikas\", \"124567889\")"
   ]
  },
  {
   "cell_type": "code",
   "execution_count": 47,
   "metadata": {},
   "outputs": [
    {
     "name": "stdout",
     "output_type": "stream",
     "text": [
      "Details added\n"
     ]
    }
   ],
   "source": [
    "addContacts(\"Vidya\", \"23456789\")"
   ]
  },
  {
   "cell_type": "code",
   "execution_count": 49,
   "metadata": {},
   "outputs": [
    {
     "name": "stdout",
     "output_type": "stream",
     "text": [
      "{'Vikas': '1233456789', 'Vidya': '23456789'}\n"
     ]
    }
   ],
   "source": [
    "print(contacts)"
   ]
  },
  {
   "cell_type": "code",
   "execution_count": 50,
   "metadata": {},
   "outputs": [],
   "source": [
    "def searchContact(name):\n",
    "    if(name in contacts.keys()):\n",
    "        print(\"Name: {0} \\nPhone: {1}\".format(name, contacts[name]))\n",
    "    else:\n",
    "        print(\"Not found\")"
   ]
  },
  {
   "cell_type": "code",
   "execution_count": 52,
   "metadata": {},
   "outputs": [
    {
     "name": "stdout",
     "output_type": "stream",
     "text": [
      "Name: Vikas \n",
      "Phone: 1233456789\n",
      "Not found\n"
     ]
    }
   ],
   "source": [
    "searchContact(\"Vikas\")\n",
    "searchContact(\"Ashish\")"
   ]
  },
  {
   "cell_type": "code",
   "execution_count": 53,
   "metadata": {},
   "outputs": [
    {
     "name": "stdout",
     "output_type": "stream",
     "text": [
      "{'A': 23456, 'B': 23456, 'Vikas': '1233456789', 'Vidya': '23456789'}\n"
     ]
    }
   ],
   "source": [
    "newContacts = {\"A\": 23456, \"B\": 23456}\n",
    "contacts.update(newContacts)\n",
    "print(contacts)"
   ]
  },
  {
   "cell_type": "code",
   "execution_count": 59,
   "metadata": {},
   "outputs": [],
   "source": [
    "def updatePhone(name, phone):\n",
    "    if (name in contacts):\n",
    "        contacts[name] = phone\n",
    "    else:\n",
    "        print(\"Not Found\")"
   ]
  },
  {
   "cell_type": "code",
   "execution_count": 60,
   "metadata": {},
   "outputs": [
    {
     "name": "stdout",
     "output_type": "stream",
     "text": [
      "{'A': 45678, 'B': 23456, 'Vikas': '1233456789', 'Vidya': '23456789'}\n"
     ]
    }
   ],
   "source": [
    "updatePhone(\"A\", 45678)\n",
    "print(contacts)"
   ]
  },
  {
   "cell_type": "code",
   "execution_count": 69,
   "metadata": {},
   "outputs": [],
   "source": [
    "def deleteContact(name):\n",
    "    if (name in contacts):\n",
    "        del contacts[name]\n",
    "        print(\"Deleted\")\n",
    "    else:\n",
    "        print(\"Not found\")"
   ]
  },
  {
   "cell_type": "code",
   "execution_count": 66,
   "metadata": {},
   "outputs": [
    {
     "name": "stdout",
     "output_type": "stream",
     "text": [
      "Not found\n"
     ]
    }
   ],
   "source": [
    "deleteContact(\"A\")"
   ]
  },
  {
   "cell_type": "markdown",
   "metadata": {},
   "source": [
    "## Tuples"
   ]
  },
  {
   "cell_type": "code",
   "execution_count": 78,
   "metadata": {},
   "outputs": [
    {
     "data": {
      "text/plain": [
       "1"
      ]
     },
     "execution_count": 78,
     "metadata": {},
     "output_type": "execute_result"
    }
   ],
   "source": [
    "t1 = (1,2,3,4)\n",
    "t1\n",
    "t1[0]"
   ]
  },
  {
   "cell_type": "markdown",
   "metadata": {},
   "source": [
    "## Standard Libraries\n",
    "- Regular Expressions\n"
   ]
  },
  {
   "cell_type": "code",
   "execution_count": 82,
   "metadata": {},
   "outputs": [],
   "source": [
    "import re"
   ]
  },
  {
   "cell_type": "code",
   "execution_count": 89,
   "metadata": {},
   "outputs": [],
   "source": [
    "def twoDigitNumber(string):\n",
    "    if(re.match(\"^[0-9]{2}$\", string)):\n",
    "        return True\n",
    "    return False"
   ]
  },
  {
   "cell_type": "code",
   "execution_count": 95,
   "metadata": {},
   "outputs": [
    {
     "name": "stdout",
     "output_type": "stream",
     "text": [
      "False\n",
      "True\n"
     ]
    }
   ],
   "source": [
    "print(twoDigitNumber(\"123\"))\n",
    "print(twoDigitNumber(\"12\"))"
   ]
  },
  {
   "cell_type": "code",
   "execution_count": 106,
   "metadata": {},
   "outputs": [],
   "source": [
    "# regular expression for username\n",
    "def regexUsername(username):\n",
    "    if(re.match(\"^[a-zA-Z]{4,11}$\", username)):\n",
    "        return True\n",
    "    return False"
   ]
  },
  {
   "cell_type": "code",
   "execution_count": 108,
   "metadata": {},
   "outputs": [
    {
     "data": {
      "text/plain": [
       "False"
      ]
     },
     "execution_count": 108,
     "metadata": {},
     "output_type": "execute_result"
    }
   ],
   "source": [
    "regexUsername(\"abcdef12\")"
   ]
  },
  {
   "cell_type": "code",
   "execution_count": 138,
   "metadata": {},
   "outputs": [],
   "source": [
    "def regexRollNumber(number):\n",
    "    if(re.match(\"^1521A05[0-9][0-9]$\", number)):\n",
    "        return True\n",
    "    return False\n",
    "\n",
    "def regexPassword(password):\n",
    "    return"
   ]
  },
  {
   "cell_type": "code",
   "execution_count": 134,
   "metadata": {},
   "outputs": [],
   "source": [
    "def regexMobile(number):\n",
    "    if(re.match(\"^[6-9][0-9]{9}$|^0[6-9][0-9]{9}$|^[+][9][1][6-9][0-9]{9}$\", number)):\n",
    "        return True\n",
    "    return False"
   ]
  },
  {
   "cell_type": "code",
   "execution_count": 136,
   "metadata": {},
   "outputs": [
    {
     "data": {
      "text/plain": [
       "True"
      ]
     },
     "execution_count": 136,
     "metadata": {},
     "output_type": "execute_result"
    }
   ],
   "source": [
    "regexMobile(\"6234567890\")"
   ]
  },
  {
   "cell_type": "code",
   "execution_count": 175,
   "metadata": {},
   "outputs": [],
   "source": [
    "def regexEmail(mail):\n",
    "    if(re.match(\"[0-9a-zA-Z][0-9a-zA-z_.]{5,14}[@][a-zA-Z]{3,18}[.][a-z]{2,4}\", mail)):\n",
    "        return True\n",
    "    return False"
   ]
  },
  {
   "cell_type": "code",
   "execution_count": 184,
   "metadata": {},
   "outputs": [
    {
     "data": {
      "text/plain": [
       "True"
      ]
     },
     "execution_count": 184,
     "metadata": {},
     "output_type": "execute_result"
    }
   ],
   "source": [
    "regexEmail(\"prabjeet_singh@google.com\")"
   ]
  },
  {
   "cell_type": "markdown",
   "metadata": {},
   "source": [
    "## Python Graphics"
   ]
  },
  {
   "cell_type": "code",
   "execution_count": 2,
   "metadata": {},
   "outputs": [],
   "source": [
    "import turtle"
   ]
  },
  {
   "cell_type": "code",
   "execution_count": 16,
   "metadata": {},
   "outputs": [],
   "source": [
    "import random as rd"
   ]
  },
  {
   "cell_type": "code",
   "execution_count": 24,
   "metadata": {},
   "outputs": [
    {
     "name": "stdout",
     "output_type": "stream",
     "text": [
      "96 62 96 40 23 94 28 36 0 55 15 24 41 16 76 78 81 18 18 52\n"
     ]
    }
   ],
   "source": [
    "def randomNumbers(lb, ub, n):\n",
    "    for i in range(n):\n",
    "        print(rd.randint(lb,ub)),\n",
    "        \n",
    "randomNumbers(0,100,20)"
   ]
  },
  {
   "cell_type": "code",
   "execution_count": 32,
   "metadata": {},
   "outputs": [],
   "source": [
    "import re"
   ]
  },
  {
   "cell_type": "code",
   "execution_count": null,
   "metadata": {},
   "outputs": [],
   "source": []
  }
 ],
 "metadata": {
  "kernelspec": {
   "display_name": "Python 2",
   "language": "python",
   "name": "python2"
  },
  "language_info": {
   "codemirror_mode": {
    "name": "ipython",
    "version": 2
   },
   "file_extension": ".py",
   "mimetype": "text/x-python",
   "name": "python",
   "nbconvert_exporter": "python",
   "pygments_lexer": "ipython2",
   "version": "2.7.15"
  }
 },
 "nbformat": 4,
 "nbformat_minor": 2
}
