{
 "cells": [
  {
   "cell_type": "code",
   "execution_count": 133,
   "metadata": {},
   "outputs": [],
   "source": [
    "import pandas as pd\n",
    "import matplotlib.pyplot as plt"
   ]
  },
  {
   "cell_type": "code",
   "execution_count": 136,
   "metadata": {},
   "outputs": [],
   "source": [
    "df = pd.read_csv(\"RegularSeasonCompactResults.csv\")"
   ]
  },
  {
   "cell_type": "code",
   "execution_count": 78,
   "metadata": {},
   "outputs": [
    {
     "data": {
      "text/plain": [
       "0         1985\n",
       "1         1985\n",
       "2         1985\n",
       "3         1985\n",
       "4         1985\n",
       "5         1985\n",
       "6         1985\n",
       "7         1985\n",
       "8         1985\n",
       "9         1985\n",
       "10        1985\n",
       "11        1985\n",
       "12        1985\n",
       "13        1985\n",
       "14        1985\n",
       "15        1985\n",
       "16        1985\n",
       "17        1985\n",
       "18          26\n",
       "19        1985\n",
       "20        1985\n",
       "21        1985\n",
       "22        1985\n",
       "23        1985\n",
       "24        1985\n",
       "25        1985\n",
       "26          26\n",
       "27        1985\n",
       "28        1985\n",
       "29        1985\n",
       "          ... \n",
       "145259    2016\n",
       "145260    2016\n",
       "145261    2016\n",
       "145262    2016\n",
       "145263    2016\n",
       "145264    2016\n",
       "145265    2016\n",
       "145266    2016\n",
       "145267    2016\n",
       "145268    2016\n",
       "145269    2016\n",
       "145270    2016\n",
       "145271    2016\n",
       "145272    2016\n",
       "145273    2016\n",
       "145274    2016\n",
       "145275    2016\n",
       "145276    2016\n",
       "145277    2016\n",
       "145278    2016\n",
       "145279    2016\n",
       "145280    2016\n",
       "145281    2016\n",
       "145282    2016\n",
       "145283    2016\n",
       "145284    2016\n",
       "145285    2016\n",
       "145286    2016\n",
       "145287    2016\n",
       "145288    2016\n",
       "Name: Season, Length: 145289, dtype: int64"
      ]
     },
     "execution_count": 78,
     "metadata": {},
     "output_type": "execute_result"
    }
   ],
   "source": [
    "df.Season"
   ]
  },
  {
   "cell_type": "markdown",
   "metadata": {},
   "source": [
    "## Groupby"
   ]
  },
  {
   "cell_type": "code",
   "execution_count": 79,
   "metadata": {},
   "outputs": [
    {
     "data": {
      "text/plain": [
       "['Season', 'Daynum', 'Wteam', 'Wscore', 'Lteam', 'Lscore', 'Wloc', 'Numot']"
      ]
     },
     "execution_count": 79,
     "metadata": {},
     "output_type": "execute_result"
    }
   ],
   "source": [
    "df.columns.tolist()"
   ]
  },
  {
   "cell_type": "code",
   "execution_count": 137,
   "metadata": {},
   "outputs": [
    {
     "data": {
      "text/plain": [
       "Daynum\n",
       "0      73.000000\n",
       "1      70.500000\n",
       "2      74.000000\n",
       "3      76.500000\n",
       "4      78.660377\n",
       "5      77.058824\n",
       "6      78.340426\n",
       "7      80.033613\n",
       "8      77.184713\n",
       "9      77.095238\n",
       "10     75.734848\n",
       "11     78.045400\n",
       "12     76.390533\n",
       "13     78.042827\n",
       "14     76.642710\n",
       "15     76.461538\n",
       "16     76.167770\n",
       "17     77.725333\n",
       "18     77.660909\n",
       "19     76.623731\n",
       "20     76.612903\n",
       "21     77.617318\n",
       "22     76.739837\n",
       "23     76.617827\n",
       "24     75.380000\n",
       "25     78.262051\n",
       "26     77.339152\n",
       "27     76.108766\n",
       "28     79.579384\n",
       "29     77.946488\n",
       "         ...    \n",
       "103    76.397101\n",
       "104    76.363636\n",
       "105    77.383195\n",
       "106    75.658576\n",
       "107    75.536570\n",
       "108    76.772670\n",
       "109    74.648026\n",
       "110    76.454072\n",
       "111    75.706009\n",
       "112    78.035614\n",
       "113    75.473585\n",
       "114    75.774215\n",
       "115    76.971963\n",
       "116    74.628319\n",
       "117    76.617972\n",
       "118    76.096429\n",
       "119    77.767232\n",
       "120    77.367576\n",
       "121    76.498057\n",
       "122    76.412333\n",
       "123    74.546911\n",
       "124    76.320726\n",
       "125    74.861771\n",
       "126    74.950617\n",
       "127    73.800525\n",
       "128    73.274540\n",
       "129    74.578910\n",
       "130    75.111020\n",
       "131    75.199214\n",
       "132    75.254054\n",
       "Name: Wscore, Length: 133, dtype: float64"
      ]
     },
     "execution_count": 137,
     "metadata": {},
     "output_type": "execute_result"
    }
   ],
   "source": [
    "df.groupby(\"Daynum\")[\"Wscore\"].mean()"
   ]
  },
  {
   "cell_type": "code",
   "execution_count": 138,
   "metadata": {},
   "outputs": [
    {
     "data": {
      "text/html": [
       "<div>\n",
       "<style scoped>\n",
       "    .dataframe tbody tr th:only-of-type {\n",
       "        vertical-align: middle;\n",
       "    }\n",
       "\n",
       "    .dataframe tbody tr th {\n",
       "        vertical-align: top;\n",
       "    }\n",
       "\n",
       "    .dataframe thead th {\n",
       "        text-align: right;\n",
       "    }\n",
       "</style>\n",
       "<table border=\"1\" class=\"dataframe\">\n",
       "  <thead>\n",
       "    <tr style=\"text-align: right;\">\n",
       "      <th></th>\n",
       "      <th>Season</th>\n",
       "      <th>Daynum</th>\n",
       "      <th>Wteam</th>\n",
       "      <th>Wscore</th>\n",
       "      <th>Lteam</th>\n",
       "      <th>Lscore</th>\n",
       "      <th>Wloc</th>\n",
       "      <th>Numot</th>\n",
       "    </tr>\n",
       "  </thead>\n",
       "  <tbody>\n",
       "    <tr>\n",
       "      <th>106</th>\n",
       "      <td>1985</td>\n",
       "      <td>30</td>\n",
       "      <td>1228</td>\n",
       "      <td>81</td>\n",
       "      <td>1152</td>\n",
       "      <td>63</td>\n",
       "      <td>H</td>\n",
       "      <td>0</td>\n",
       "    </tr>\n",
       "    <tr>\n",
       "      <th>199</th>\n",
       "      <td>1985</td>\n",
       "      <td>33</td>\n",
       "      <td>1228</td>\n",
       "      <td>73</td>\n",
       "      <td>1328</td>\n",
       "      <td>70</td>\n",
       "      <td>H</td>\n",
       "      <td>0</td>\n",
       "    </tr>\n",
       "    <tr>\n",
       "      <th>387</th>\n",
       "      <td>1985</td>\n",
       "      <td>39</td>\n",
       "      <td>1228</td>\n",
       "      <td>72</td>\n",
       "      <td>1162</td>\n",
       "      <td>48</td>\n",
       "      <td>H</td>\n",
       "      <td>0</td>\n",
       "    </tr>\n",
       "    <tr>\n",
       "      <th>437</th>\n",
       "      <td>1985</td>\n",
       "      <td>40</td>\n",
       "      <td>1228</td>\n",
       "      <td>93</td>\n",
       "      <td>1308</td>\n",
       "      <td>55</td>\n",
       "      <td>H</td>\n",
       "      <td>0</td>\n",
       "    </tr>\n",
       "    <tr>\n",
       "      <th>629</th>\n",
       "      <td>1985</td>\n",
       "      <td>47</td>\n",
       "      <td>1228</td>\n",
       "      <td>83</td>\n",
       "      <td>1354</td>\n",
       "      <td>47</td>\n",
       "      <td>H</td>\n",
       "      <td>0</td>\n",
       "    </tr>\n",
       "  </tbody>\n",
       "</table>\n",
       "</div>"
      ],
      "text/plain": [
       "     Season  Daynum  Wteam  Wscore  Lteam  Lscore Wloc  Numot\n",
       "106    1985      30   1228      81   1152      63    H      0\n",
       "199    1985      33   1228      73   1328      70    H      0\n",
       "387    1985      39   1228      72   1162      48    H      0\n",
       "437    1985      40   1228      93   1308      55    H      0\n",
       "629    1985      47   1228      83   1354      47    H      0"
      ]
     },
     "execution_count": 138,
     "metadata": {},
     "output_type": "execute_result"
    }
   ],
   "source": [
    "df[(df.Wteam == 1228) & (df.Wloc == \"H\")].head()"
   ]
  },
  {
   "cell_type": "markdown",
   "metadata": {},
   "source": [
    "## Data Cleaning"
   ]
  },
  {
   "cell_type": "code",
   "execution_count": 139,
   "metadata": {},
   "outputs": [
    {
     "data": {
      "text/plain": [
       "Season    145289\n",
       "Daynum    145289\n",
       "Wteam     145289\n",
       "Wscore    145289\n",
       "Lteam     145289\n",
       "Lscore    145289\n",
       "Wloc      145289\n",
       "Numot     145289\n",
       "dtype: int64"
      ]
     },
     "execution_count": 139,
     "metadata": {},
     "output_type": "execute_result"
    }
   ],
   "source": [
    "df.isnull().count()"
   ]
  },
  {
   "cell_type": "code",
   "execution_count": 140,
   "metadata": {},
   "outputs": [
    {
     "data": {
      "text/plain": [
       "0"
      ]
     },
     "execution_count": 140,
     "metadata": {},
     "output_type": "execute_result"
    }
   ],
   "source": [
    "df[\"Season\"].isnull().sum()"
   ]
  },
  {
   "cell_type": "markdown",
   "metadata": {},
   "source": [
    "- dropna() -- Drop rows having missing values\n",
    "- fillna() -- Fills null values with the specified value"
   ]
  },
  {
   "cell_type": "markdown",
   "metadata": {},
   "source": [
    "## NumPy"
   ]
  },
  {
   "cell_type": "code",
   "execution_count": 89,
   "metadata": {},
   "outputs": [],
   "source": [
    "import numpy as np"
   ]
  },
  {
   "cell_type": "code",
   "execution_count": 95,
   "metadata": {},
   "outputs": [
    {
     "name": "stdout",
     "output_type": "stream",
     "text": [
      "[1 2 3 4 5 6]\n",
      "6\n",
      "<type 'numpy.ndarray'>\n"
     ]
    }
   ],
   "source": [
    "li = [1,2,3,4,5,6]\n",
    "c1 = np.array(li)\n",
    "print(c1)\n",
    "print(c1.shape[0])\n",
    "print(type(c1))"
   ]
  },
  {
   "cell_type": "code",
   "execution_count": 112,
   "metadata": {},
   "outputs": [
    {
     "name": "stdout",
     "output_type": "stream",
     "text": [
      "[[1 2]\n",
      " [3 4]\n",
      " [5 6]] [1 2] 2\n",
      "<type 'numpy.ndarray'>\n"
     ]
    }
   ],
   "source": [
    "c2 = np.array([(1,2),(3,4),(5,6)])\n",
    "print(c2),\n",
    "print(c2[0]),\n",
    "print(c2[0][1])\n",
    "print(type(c2))"
   ]
  },
  {
   "cell_type": "markdown",
   "metadata": {},
   "source": [
    "- np.zeroes()\n",
    "- np.ones()"
   ]
  },
  {
   "cell_type": "code",
   "execution_count": 116,
   "metadata": {},
   "outputs": [
    {
     "name": "stdout",
     "output_type": "stream",
     "text": [
      "[[ 0.  0.]\n",
      " [ 0.  0.]]\n"
     ]
    }
   ],
   "source": [
    "print(np.zeros((2,2)))"
   ]
  },
  {
   "cell_type": "code",
   "execution_count": 120,
   "metadata": {},
   "outputs": [
    {
     "name": "stdout",
     "output_type": "stream",
     "text": [
      "[[0 0 0]\n",
      " [0 0 0]\n",
      " [0 0 0]]\n"
     ]
    }
   ],
   "source": [
    "x = np.zeros((3,3), dtype=np.int16)\n",
    "print(x)"
   ]
  },
  {
   "cell_type": "code",
   "execution_count": 127,
   "metadata": {},
   "outputs": [
    {
     "name": "stdout",
     "output_type": "stream",
     "text": [
      "[[1 1 1 1 1 1 1 1 1 1 1 1 1 1 1 1 1 1 1 1 1 1 1 1 1 1 1 1 1 1]\n",
      " [1 1 1 1 1 1 1 1 1 1 1 1 1 1 1 1 1 1 1 1 1 1 1 1 1 1 1 1 1 1]\n",
      " [1 1 1 1 1 1 1 1 1 1 1 1 1 1 1 1 1 1 1 1 1 1 1 1 1 1 1 1 1 1]\n",
      " [1 1 1 1 1 1 1 1 1 1 1 1 1 1 1 1 1 1 1 1 1 1 1 1 1 1 1 1 1 1]\n",
      " [1 1 1 1 1 1 1 1 1 1 1 1 1 1 1 1 1 1 1 1 1 1 1 1 1 1 1 1 1 1]\n",
      " [1 1 1 1 1 1 1 1 1 1 1 1 1 1 1 1 1 1 1 1 1 1 1 1 1 1 1 1 1 1]\n",
      " [1 1 1 1 1 1 1 1 1 1 1 1 1 1 1 1 1 1 1 1 1 1 1 1 1 1 1 1 1 1]\n",
      " [1 1 1 1 1 1 1 1 1 1 1 1 1 1 1 1 1 1 1 1 1 1 1 1 1 1 1 1 1 1]\n",
      " [1 1 1 1 1 1 1 1 1 1 1 1 1 1 1 1 1 1 1 1 1 1 1 1 1 1 1 1 1 1]\n",
      " [1 1 1 1 1 1 1 1 1 1 1 1 1 1 1 1 1 1 1 1 1 1 1 1 1 1 1 1 1 1]]\n"
     ]
    }
   ],
   "source": [
    "x = np.ones((10,30), dtype=np.int32)\n",
    "print(x)"
   ]
  },
  {
   "cell_type": "code",
   "execution_count": 130,
   "metadata": {},
   "outputs": [
    {
     "name": "stdout",
     "output_type": "stream",
     "text": [
      "[[ 0  1  2  3]\n",
      " [ 4  5  6  7]\n",
      " [ 8  9 10 11]\n",
      " [12 13 14 15]\n",
      " [16 17 18 19]]\n"
     ]
    }
   ],
   "source": [
    "x = np.arange(20).reshape(5,4)\n",
    "print(x)"
   ]
  },
  {
   "cell_type": "code",
   "execution_count": 132,
   "metadata": {},
   "outputs": [
    {
     "name": "stdout",
     "output_type": "stream",
     "text": [
      "[[ 0  2  4  6]\n",
      " [ 8 10 12 14]\n",
      " [16 18 20 22]\n",
      " [24 26 28 30]\n",
      " [32 34 36 38]]\n"
     ]
    }
   ],
   "source": [
    "print(x*2)"
   ]
  },
  {
   "cell_type": "markdown",
   "metadata": {},
   "source": [
    "## Visualizing Data"
   ]
  },
  {
   "cell_type": "code",
   "execution_count": 147,
   "metadata": {},
   "outputs": [
    {
     "data": {
      "image/png": "[encoded data removed]",
      "text/plain": [
       "<matplotlib.figure.Figure at 0xc8d8240>"
      ]
     },
     "metadata": {
      "needs_background": "light"
     },
     "output_type": "display_data"
    }
   ],
   "source": [
    "a1 = [1,2,3,4]\n",
    "a2 = [5,6,7,8]\n",
    "plt.figure(figsize=(5,5))\n",
    "plt.plot(a1,a2, color = \"green\")\n",
    "plt.xlabel(\"X\")\n",
    "plt.ylabel(\"Y\")\n",
    "plt.show()"
   ]
  },
  {
   "cell_type": "code",
   "execution_count": 166,
   "metadata": {},
   "outputs": [
    {
     "data": {
      "text/plain": [
       "<Container object of 4 artists>"
      ]
     },
     "execution_count": 166,
     "metadata": {},
     "output_type": "execute_result"
    },
    {
     "data": {
      "image/png": "[encoded data removed]",
      "text/plain": [
       "<matplotlib.figure.Figure at 0x166860f0>"
      ]
     },
     "metadata": {
      "needs_background": "light"
     },
     "output_type": "display_data"
    }
   ],
   "source": [
    "plt.bar([\"A\", \"B\", \"C\", \"D\"], height = a2)"
   ]
  },
  {
   "cell_type": "code",
   "execution_count": 181,
   "metadata": {},
   "outputs": [
    {
     "data": {
      "text/plain": [
       "<Container object of 4 artists>"
      ]
     },
     "execution_count": 181,
     "metadata": {},
     "output_type": "execute_result"
    },
    {
     "data": {
      "image/png": "[encoded data removed]",
      "text/plain": [
       "<matplotlib.figure.Figure at 0x1189b630>"
      ]
     },
     "metadata": {
      "needs_background": "light"
     },
     "output_type": "display_data"
    }
   ],
   "source": [
    "plt.barh([\"A\", \"B\", \"C\", \"D\"], [1000,2000,3000,4000], color = \"#FF1234\", )"
   ]
  },
  {
   "cell_type": "code",
   "execution_count": 191,
   "metadata": {},
   "outputs": [
    {
     "data": {
      "image/png": "[encoded data removed]",
      "text/plain": [
       "<matplotlib.figure.Figure at 0x168d31d0>"
      ]
     },
     "metadata": {},
     "output_type": "display_data"
    }
   ],
   "source": [
    "lang = [\"Hindi\", \"English\", \"Punjabi\", \"Oriya\"]\n",
    "rating = [10,20,100,5]\n",
    "plt.pie(rating, labels=lang, shadow=True)\n",
    "plt.show()"
   ]
  },
  {
   "cell_type": "code",
   "execution_count": 200,
   "metadata": {},
   "outputs": [
    {
     "data": {
      "text/plain": [
       "<Container object of 3 artists>"
      ]
     },
     "execution_count": 200,
     "metadata": {},
     "output_type": "execute_result"
    },
    {
     "data": {
      "image/png": "[encoded data removed]",
      "text/plain": [
       "<matplotlib.figure.Figure at 0x16686518>"
      ]
     },
     "metadata": {
      "needs_background": "light"
     },
     "output_type": "display_data"
    }
   ],
   "source": [
    "plt.errorbar(a1, a2)"
   ]
  }
 ],
 "metadata": {
  "kernelspec": {
   "display_name": "Python 2",
   "language": "python",
   "name": "python2"
  },
  "language_info": {
   "codemirror_mode": {
    "name": "ipython",
    "version": 2
   },
   "file_extension": ".py",
   "mimetype": "text/x-python",
   "name": "python",
   "nbconvert_exporter": "python",
   "pygments_lexer": "ipython2",
   "version": "2.7.15"
  }
 },
 "nbformat": 4,
 "nbformat_minor": 2
}
