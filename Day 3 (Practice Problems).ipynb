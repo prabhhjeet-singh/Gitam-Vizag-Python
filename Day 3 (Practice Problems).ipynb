{
 "cells": [
  {
   "cell_type": "code",
   "execution_count": 29,
   "metadata": {},
   "outputs": [
    {
     "name": "stdout",
     "output_type": "stream",
     "text": [
      "Enter the string: orange\n",
      "puboif\n"
     ]
    }
   ],
   "source": [
    "# Problem 1 - print the next consonant to the vowel and next vowel to the consonant\n",
    "vowels = ['a', 'e', 'i', 'o', 'u']\n",
    "def isVowel(char):\n",
    "    if(char in vowels):\n",
    "        return True\n",
    "    return False\n",
    "\n",
    "string = raw_input(\"Enter the string: \")\n",
    "new_string = []\n",
    "for i in string:\n",
    "    if(isVowel(i)):\n",
    "        new_string.append(chr(ord(i) + 1))\n",
    "    else:\n",
    "        next_char = chr((ord(i) + 1))\n",
    "        while(next_char not in vowels):\n",
    "                        next_char = chr(ord(next_char) + 1)\n",
    "        new_string.append(next_char)        \n",
    "new_string = \"\".join(new_string)\n",
    "print(new_string)"
   ]
  },
  {
   "cell_type": "code",
   "execution_count": 34,
   "metadata": {},
   "outputs": [
    {
     "name": "stdout",
     "output_type": "stream",
     "text": [
      "is best in college\n"
     ]
    }
   ],
   "source": [
    "# Problem 2 - Output alternate words in lower case\n",
    "def fun(string):\n",
    "    list1 = string.split(\" \")\n",
    "    for i in range(len(list1)):\n",
    "        if(i % 2 != 0):\n",
    "            print(list1[i].lower()),\n",
    "            \n",
    "fun(\"PRITISHA IS THE BEST GIRL IN THE COLLEGE\")"
   ]
  },
  {
   "cell_type": "code",
   "execution_count": 41,
   "metadata": {},
   "outputs": [
    {
     "name": "stdout",
     "output_type": "stream",
     "text": [
      "20\n"
     ]
    }
   ],
   "source": [
    "# Problem 3 - Output even digit sum\n",
    "def evenDigitSum(string):\n",
    "    total = 0\n",
    "    for i in string:\n",
    "        if (i.isdigit()):\n",
    "            if(int(i) % 2 == 0):\n",
    "                total = total + int(i)\n",
    "    print(total)\n",
    "            \n",
    "evenDigitSum(\"Jainab is a good girl 123456789\")"
   ]
  },
  {
   "cell_type": "code",
   "execution_count": 45,
   "metadata": {},
   "outputs": [
    {
     "name": "stdout",
     "output_type": "stream",
     "text": [
      "i   A M   s O R r y   v I d d U\n"
     ]
    }
   ],
   "source": [
    "# Problem 4 - reverse the cases of the letters \n",
    "def reverse(string):\n",
    "    for i in string:\n",
    "        if(i.islower()):\n",
    "            print(i.upper()),\n",
    "        else:\n",
    "            print(i.lower()),\n",
    "\n",
    "reverse(\"I am SorRY ViDDu\")"
   ]
  },
  {
   "cell_type": "code",
   "execution_count": 49,
   "metadata": {},
   "outputs": [
    {
     "data": {
      "text/plain": [
       "2"
      ]
     },
     "execution_count": 49,
     "metadata": {},
     "output_type": "execute_result"
    }
   ],
   "source": [
    "# Problem 5 - print the number of occurences of given character in the string\n",
    "def countChar(string, char):\n",
    "    return string.count(char)\n",
    "\n",
    "countChar(\"abcdabcd\", \"a\")"
   ]
  }
 ],
 "metadata": {
  "kernelspec": {
   "display_name": "Python 2",
   "language": "python",
   "name": "python2"
  },
  "language_info": {
   "codemirror_mode": {
    "name": "ipython",
    "version": 2
   },
   "file_extension": ".py",
   "mimetype": "text/x-python",
   "name": "python",
   "nbconvert_exporter": "python",
   "pygments_lexer": "ipython2",
   "version": "2.7.15"
  }
 },
 "nbformat": 4,
 "nbformat_minor": 2
}
