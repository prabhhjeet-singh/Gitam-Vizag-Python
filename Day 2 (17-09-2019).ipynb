{
 "cells": [
  {
   "cell_type": "markdown",
   "metadata": {},
   "source": [
    "## Control Statements\n",
    "- if-else\n",
    "- while\n",
    "- for"
   ]
  },
  {
   "cell_type": "code",
   "execution_count": 1,
   "metadata": {},
   "outputs": [
    {
     "name": "stdout",
     "output_type": "stream",
     "text": [
      "2018\n",
      "Not a leap year\n"
     ]
    }
   ],
   "source": [
    "year = int(input())\n",
    "if(year % 400 == 0 or (year % 100 != 0 and year%4 == 0)):\n",
    "    print(\"Leap Year\")\n",
    "else:\n",
    "    print(\"Not a leap year\")"
   ]
  },
  {
   "cell_type": "markdown",
   "metadata": {},
   "source": [
    "### While Loop"
   ]
  },
  {
   "cell_type": "code",
   "execution_count": 6,
   "metadata": {},
   "outputs": [
    {
     "name": "stdout",
     "output_type": "stream",
     "text": [
      "15\n",
      "1 2 3 4 5 6 7 8 9 10 11 12 13 14 15\n"
     ]
    }
   ],
   "source": [
    "n = int(input())\n",
    "i = 0\n",
    "while(i < n):\n",
    "    i = i + 1\n",
    "    print(i),"
   ]
  },
  {
   "cell_type": "code",
   "execution_count": 12,
   "metadata": {},
   "outputs": [
    {
     "name": "stdout",
     "output_type": "stream",
     "text": [
      "1000\n",
      "250500\n"
     ]
    }
   ],
   "source": [
    "#read a number as an input and print the output as sum of even numbers from 1 to n\n",
    "inp = int(input())\n",
    "i = 1\n",
    "total = 0\n",
    "while(i <= inp):\n",
    "    if(i % 2 == 0):\n",
    "        total = total + i\n",
    "    i = i + 1\n",
    "print(total)"
   ]
  },
  {
   "cell_type": "code",
   "execution_count": 14,
   "metadata": {},
   "outputs": [
    {
     "name": "stdout",
     "output_type": "stream",
     "text": [
      "123\n",
      "3 2 1\n"
     ]
    }
   ],
   "source": [
    "num = int(input())\n",
    "while(num > 0):\n",
    "    temp = num % 10\n",
    "    print(temp),\n",
    "    num = num / 10"
   ]
  },
  {
   "cell_type": "markdown",
   "metadata": {},
   "source": [
    "## Functional Programming"
   ]
  },
  {
   "cell_type": "code",
   "execution_count": 16,
   "metadata": {},
   "outputs": [
    {
     "data": {
      "text/plain": [
       "12"
      ]
     },
     "execution_count": 16,
     "metadata": {},
     "output_type": "execute_result"
    }
   ],
   "source": [
    "def evenSum(num):\n",
    "    total = 0\n",
    "    while(num > 0):\n",
    "        temp = num % 10\n",
    "        if(temp % 2 == 0):\n",
    "            total = total + temp\n",
    "        num = num / 10\n",
    "    return(total)\n",
    "\n",
    "evenSum(123456)"
   ]
  },
  {
   "cell_type": "code",
   "execution_count": 22,
   "metadata": {},
   "outputs": [
    {
     "data": {
      "text/plain": [
       "9"
      ]
     },
     "execution_count": 22,
     "metadata": {},
     "output_type": "execute_result"
    }
   ],
   "source": [
    "def largest(num):\n",
    "    large = 0\n",
    "    while(num > 0):\n",
    "        temp = num % 10\n",
    "        if(temp > large):\n",
    "            large = temp\n",
    "        num = num / 10\n",
    "    return(large)\n",
    "\n",
    "largest(123951304)"
   ]
  },
  {
   "cell_type": "code",
   "execution_count": 41,
   "metadata": {},
   "outputs": [
    {
     "name": "stdout",
     "output_type": "stream",
     "text": [
      "No\n"
     ]
    }
   ],
   "source": [
    "#sum of factorial of digits is same as the digit\n",
    "def factorial(num):\n",
    "    if(num == 0):\n",
    "        return 1\n",
    "    else:\n",
    "        return(num*factorial(num - 1))\n",
    "    \n",
    "def sos(num):\n",
    "    n = num\n",
    "    total = 0\n",
    "    while(num > 0):\n",
    "        temp = num % 10\n",
    "        total = total + factorial(temp)\n",
    "        num = num / 10\n",
    "    if(n == total):\n",
    "        print(\"Yes\")\n",
    "    else:\n",
    "        print(\"No\")\n",
    "        \n",
    "sos(123)"
   ]
  },
  {
   "cell_type": "code",
   "execution_count": 49,
   "metadata": {},
   "outputs": [
    {
     "name": "stdout",
     "output_type": "stream",
     "text": [
      "Not A Palindrome\n"
     ]
    }
   ],
   "source": [
    "#palindrome\n",
    "def palindrome(num):\n",
    "    reverse = 0\n",
    "    buf = num\n",
    "    while(num > 0):\n",
    "        temp = num % 10\n",
    "        reverse = reverse * 10 + (num % 10)\n",
    "        num = num / 10\n",
    "    if(buf == reverse):\n",
    "        print(\"Palindrome\")\n",
    "    else:\n",
    "        print(\"Not A Palindrome\")\n",
    "        \n",
    "palindrome(123)"
   ]
  },
  {
   "cell_type": "code",
   "execution_count": 51,
   "metadata": {},
   "outputs": [
    {
     "name": "stdout",
     "output_type": "stream",
     "text": [
      "1 3 5 7 9 11 13 15 17 19 21 23 25 27 29 31 33 35 37 39 41 43 45 47 49 51 53 55 57 59 61 63 65 67 69 71 73 75 77 79 81 83 85 87 89 91 93 95 97 99\n"
     ]
    }
   ],
   "source": [
    "for x in range(1,100,2):\n",
    "    print(x),"
   ]
  }
 ],
 "metadata": {
  "kernelspec": {
   "display_name": "Python 2",
   "language": "python",
   "name": "python2"
  },
  "language_info": {
   "codemirror_mode": {
    "name": "ipython",
    "version": 2
   },
   "file_extension": ".py",
   "mimetype": "text/x-python",
   "name": "python",
   "nbconvert_exporter": "python",
   "pygments_lexer": "ipython2",
   "version": "2.7.15"
  }
 },
 "nbformat": 4,
 "nbformat_minor": 2
}
