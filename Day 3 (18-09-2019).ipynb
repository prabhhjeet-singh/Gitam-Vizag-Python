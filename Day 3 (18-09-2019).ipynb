{
 "cells": [
  {
   "cell_type": "markdown",
   "metadata": {},
   "source": [
    "## Programming with Strings\n",
    "- Strings\n",
    "- String Slicing\n",
    "- Programs with strings"
   ]
  },
  {
   "cell_type": "code",
   "execution_count": 6,
   "metadata": {},
   "outputs": [
    {
     "name": "stdout",
     "output_type": "stream",
     "text": [
      "P\n",
      "18\n",
      "g\n",
      "Pto rgamn\n",
      "gimroPnhy\n"
     ]
    }
   ],
   "source": [
    "s1 = \"Python Programming\"\n",
    "print(s1[0])\n",
    "print(len(s1))\n",
    "print(s1[-1])\n",
    "print(s1[::2])\n",
    "print(s1[::-2])"
   ]
  },
  {
   "cell_type": "markdown",
   "metadata": {},
   "source": [
    "## Functions with String Operations"
   ]
  },
  {
   "cell_type": "code",
   "execution_count": 8,
   "metadata": {},
   "outputs": [
    {
     "data": {
      "text/plain": [
       "'iH'"
      ]
     },
     "execution_count": 8,
     "metadata": {},
     "output_type": "execute_result"
    }
   ],
   "source": [
    "def reverse(s):\n",
    "    return s[-1::-1]\n",
    "\n",
    "reverse(\"Hi\")"
   ]
  },
  {
   "cell_type": "code",
   "execution_count": 11,
   "metadata": {},
   "outputs": [
    {
     "data": {
      "text/plain": [
       "True"
      ]
     },
     "execution_count": 11,
     "metadata": {},
     "output_type": "execute_result"
    }
   ],
   "source": [
    "def isPalindrome(s):\n",
    "    if(s == s[-1::-1]):\n",
    "        return True\n",
    "    return False\n",
    "\n",
    "isPalindrome(\"mom\")"
   ]
  },
  {
   "cell_type": "code",
   "execution_count": 14,
   "metadata": {},
   "outputs": [
    {
     "name": "stdout",
     "output_type": "stream",
     "text": [
      "F\n",
      "R\n"
     ]
    }
   ],
   "source": [
    "#printing upper case - Way 1\n",
    "def printUpper(s):\n",
    "    for i in s:\n",
    "        if(i == i.upper()):\n",
    "            print(i)\n",
    "            \n",
    "printUpper(\"abcdFR\")"
   ]
  },
  {
   "cell_type": "code",
   "execution_count": 25,
   "metadata": {},
   "outputs": [
    {
     "name": "stdout",
     "output_type": "stream",
     "text": [
      "D\n"
     ]
    }
   ],
   "source": [
    "#printing upper case - Way 2\n",
    "def printUpper(s):\n",
    "    for i in range(len(s)):\n",
    "        if(ord(s[i]) >= 65) and (ord(s[i]) <= 90):\n",
    "            print(s[i])\n",
    "            \n",
    "printUpper('abcD')"
   ]
  },
  {
   "cell_type": "code",
   "execution_count": 24,
   "metadata": {},
   "outputs": [
    {
     "data": {
      "text/plain": [
       "True"
      ]
     },
     "execution_count": 24,
     "metadata": {},
     "output_type": "execute_result"
    }
   ],
   "source": [
    "def sameCount(s):\n",
    "    lower_count = 0\n",
    "    upper_count = 0\n",
    "    for i in range(len(s)):\n",
    "        if(ord(s[i]) >= 65) and (ord(s[i]) <= 90):\n",
    "            upper_count = upper_count + 1\n",
    "        else:\n",
    "            lower_count = lower_count + 1\n",
    "    if(lower_count == upper_count):\n",
    "        return True\n",
    "    else:\n",
    "        return False\n",
    "    \n",
    "sameCount(\"PYThon\")"
   ]
  },
  {
   "cell_type": "code",
   "execution_count": 40,
   "metadata": {},
   "outputs": [
    {
     "name": "stdout",
     "output_type": "stream",
     "text": [
      "1 2 5 2 9 8 3 6 2 9 7 3 6 7 6 3 2 8 7 2 8 6\n"
     ]
    }
   ],
   "source": [
    "def extractDigits(string):\n",
    "    for i in string: \n",
    "        if ((ord(i) >= 48) and (ord(i) <= 57)):\n",
    "            print(i),\n",
    "            \n",
    "extractDigits(\"125wwg298362973fgigfi6763287286dfg\")"
   ]
  },
  {
   "cell_type": "code",
   "execution_count": 45,
   "metadata": {},
   "outputs": [
    {
     "name": "stdout",
     "output_type": "stream",
     "text": [
      "21\n"
     ]
    }
   ],
   "source": [
    "def extractDigitsSum(string):\n",
    "    count = 0\n",
    "    for i in string: \n",
    "        if ((ord(i) >= 48) and (ord(i) <= 57)):\n",
    "            count = count + int(i)\n",
    "    print(count)\n",
    "            \n",
    "extractDigitsSum(\"123456abcd\")"
   ]
  },
  {
   "cell_type": "code",
   "execution_count": 56,
   "metadata": {},
   "outputs": [
    {
     "data": {
      "text/plain": [
       "'NDBSNSB'"
      ]
     },
     "execution_count": 56,
     "metadata": {},
     "output_type": "execute_result"
    }
   ],
   "source": [
    "def upperCaseSecond(string):\n",
    "    list1 = string.split(' ')\n",
    "    temp = list1[1]\n",
    "    return temp.upper()\n",
    "\n",
    "upperCaseSecond(\"abd ndbsnsb sndbdsn\")\n",
    "    "
   ]
  },
  {
   "cell_type": "markdown",
   "metadata": {},
   "source": [
    "## List "
   ]
  },
  {
   "cell_type": "code",
   "execution_count": 76,
   "metadata": {},
   "outputs": [
    {
     "name": "stdout",
     "output_type": "stream",
     "text": [
      "[1, 2, 1.2, 34.56, 'Gitam', True]\n",
      "[23, 2, 1.2, 34.56, 'Gitam', True]\n",
      "[2, 1.2, 34.56, 'Gitam', True]\n"
     ]
    }
   ],
   "source": [
    "li = [1,2,1.2, 34.56, 'Gitam', True]\n",
    "print(li)\n",
    "li[0] = 23\n",
    "print(li)\n",
    "del li[0]\n",
    "print(li)"
   ]
  },
  {
   "cell_type": "code",
   "execution_count": 64,
   "metadata": {},
   "outputs": [
    {
     "name": "stdout",
     "output_type": "stream",
     "text": [
      "5\n"
     ]
    }
   ],
   "source": [
    "print(len(li)) "
   ]
  },
  {
   "cell_type": "code",
   "execution_count": 65,
   "metadata": {},
   "outputs": [
    {
     "data": {
      "text/plain": [
       "[2, 1.2, 34.56, 'Gitam', True, 2, 1.2, 34.56, 'Gitam', True]"
      ]
     },
     "execution_count": 65,
     "metadata": {},
     "output_type": "execute_result"
    }
   ],
   "source": [
    "li * 2"
   ]
  },
  {
   "cell_type": "code",
   "execution_count": 66,
   "metadata": {},
   "outputs": [
    {
     "data": {
      "text/plain": [
       "False"
      ]
     },
     "execution_count": 66,
     "metadata": {},
     "output_type": "execute_result"
    }
   ],
   "source": [
    "4 in li"
   ]
  },
  {
   "cell_type": "code",
   "execution_count": 70,
   "metadata": {},
   "outputs": [
    {
     "name": "stdout",
     "output_type": "stream",
     "text": [
      "1 2 3 4 5\n"
     ]
    }
   ],
   "source": [
    "for i in li:\n",
    "    print(i),"
   ]
  },
  {
   "cell_type": "code",
   "execution_count": 73,
   "metadata": {},
   "outputs": [
    {
     "name": "stdout",
     "output_type": "stream",
     "text": [
      "('min: ', 1)\n",
      "('max: ', 5)\n",
      "('sum: ', 15)\n",
      "('avg: ', 3)\n"
     ]
    }
   ],
   "source": [
    "print(\"min: \", min(li))\n",
    "print(\"max: \", max(li))\n",
    "print(\"sum: \", sum(li))\n",
    "print(\"avg: \", sum(li)/len(li))"
   ]
  },
  {
   "cell_type": "code",
   "execution_count": 80,
   "metadata": {},
   "outputs": [
    {
     "name": "stdout",
     "output_type": "stream",
     "text": [
      "[1, 2, 3, 4]\n",
      "[1, 2, 3, 4, 6]\n",
      "[1, 2, 23, 3, 4, 6]\n"
     ]
    }
   ],
   "source": [
    "li = [1,2,3,4]\n",
    "print(li)\n",
    "li.append(6)\n",
    "print(li)\n",
    "li.insert(2, 23)\n",
    "print(li)"
   ]
  },
  {
   "cell_type": "code",
   "execution_count": 81,
   "metadata": {},
   "outputs": [],
   "source": [
    "li.append(2)"
   ]
  },
  {
   "cell_type": "code",
   "execution_count": 83,
   "metadata": {},
   "outputs": [
    {
     "data": {
      "text/plain": [
       "2"
      ]
     },
     "execution_count": 83,
     "metadata": {},
     "output_type": "execute_result"
    }
   ],
   "source": [
    "li.count(2)"
   ]
  },
  {
   "cell_type": "code",
   "execution_count": 85,
   "metadata": {},
   "outputs": [
    {
     "data": {
      "text/plain": [
       "1"
      ]
     },
     "execution_count": 85,
     "metadata": {},
     "output_type": "execute_result"
    }
   ],
   "source": [
    "li.index(2)"
   ]
  },
  {
   "cell_type": "code",
   "execution_count": 90,
   "metadata": {},
   "outputs": [
    {
     "name": "stdout",
     "output_type": "stream",
     "text": [
      "[1, 2, 2, 3, 4, 6]\n",
      "[1, 2, 2, 3, 4]\n",
      "[1, 2, 3, 4]\n"
     ]
    }
   ],
   "source": [
    "li.sort()\n",
    "print(li)\n",
    "li.pop()\n",
    "print(li)\n",
    "li.pop(2)\n",
    "print(li)"
   ]
  },
  {
   "cell_type": "code",
   "execution_count": 93,
   "metadata": {},
   "outputs": [
    {
     "name": "stdout",
     "output_type": "stream",
     "text": [
      "[25, 19, 6, 1, 25, 19, 6, 1, 4, 3, 2, 1, 1, 6, 19, 25]\n"
     ]
    }
   ],
   "source": [
    "list1 = [1, 6, 19, 25]\n",
    "li.extend(list1)\n",
    "print(li)"
   ]
  },
  {
   "cell_type": "code",
   "execution_count": 95,
   "metadata": {},
   "outputs": [
    {
     "name": "stdout",
     "output_type": "stream",
     "text": [
      "[25, 19, 6, 1, 25, 19, 6, 1, 4, 3, 2, 1, 1, 6, 19, 25]\n"
     ]
    }
   ],
   "source": [
    "li.reverse()\n",
    "print(li)"
   ]
  },
  {
   "cell_type": "code",
   "execution_count": 98,
   "metadata": {},
   "outputs": [
    {
     "data": {
      "text/plain": [
       "50"
      ]
     },
     "execution_count": 98,
     "metadata": {},
     "output_type": "execute_result"
    }
   ],
   "source": [
    "# function to return the largest number from the list\n",
    "def largest(list1):\n",
    "    list1.sort()\n",
    "    return list1[-1]\n",
    "\n",
    "largest([1,2,3,4,50,2,3,11,23,10])"
   ]
  },
  {
   "cell_type": "code",
   "execution_count": 102,
   "metadata": {},
   "outputs": [],
   "source": [
    "# function to find the smallest number\n",
    "def smallest(list1):\n",
    "    list1.sort()\n",
    "    return list1[0]\n",
    "\n",
    "def genericSmallest(list1, n):\n",
    "    list1.sort()\n",
    "    return list1[n]\n"
   ]
  },
  {
   "cell_type": "code",
   "execution_count": 107,
   "metadata": {},
   "outputs": [
    {
     "data": {
      "text/plain": [
       "1"
      ]
     },
     "execution_count": 107,
     "metadata": {},
     "output_type": "execute_result"
    }
   ],
   "source": [
    "genericSmallest([1,2,3,4,5,6,-10,127,27363,3], 1)"
   ]
  },
  {
   "cell_type": "markdown",
   "metadata": {},
   "source": [
    "## File Handling in Python"
   ]
  },
  {
   "cell_type": "code",
   "execution_count": 112,
   "metadata": {},
   "outputs": [
    {
     "name": "stdout",
     "output_type": "stream",
     "text": [
      "File created and data written\n"
     ]
    }
   ],
   "source": [
    "# function to create a file and wrute some data to the file\n",
    "def createFileAndWrite(filename):\n",
    "    f = open(filename, 'w')\n",
    "    f.write(\"Writing first time\")\n",
    "    print(\"File created and data written\")\n",
    "    \n",
    "createFileAndWrite(\"data\")"
   ]
  },
  {
   "cell_type": "code",
   "execution_count": 113,
   "metadata": {},
   "outputs": [
    {
     "name": "stdout",
     "output_type": "stream",
     "text": [
      "Done!\n"
     ]
    }
   ],
   "source": [
    "def appendToFile(filename):\n",
    "    f = open(filename, 'a')\n",
    "    f.write(\"\\nWriting using append function\")\n",
    "    print(\"Done!\")\n",
    "    \n",
    "appendToFile(\"data\")"
   ]
  },
  {
   "cell_type": "code",
   "execution_count": 115,
   "metadata": {},
   "outputs": [
    {
     "name": "stdout",
     "output_type": "stream",
     "text": [
      "Writing first time\n",
      "Writing using append function\n"
     ]
    }
   ],
   "source": [
    "# function to read the file data\n",
    "def read(filename):\n",
    "    f = open(filename, 'r')\n",
    "    a = f.read()\n",
    "    print(a)\n",
    "    f.close()\n",
    "    \n",
    "read(\"data\")"
   ]
  },
  {
   "cell_type": "code",
   "execution_count": 122,
   "metadata": {},
   "outputs": [
    {
     "data": {
      "text/plain": [
       "7"
      ]
     },
     "execution_count": 122,
     "metadata": {},
     "output_type": "execute_result"
    }
   ],
   "source": [
    "# word count\n",
    "def wordCount(filename):\n",
    "    f = open(filename, 'r')\n",
    "    a = f.read()\n",
    "    list1 = a.split()\n",
    "    return len(list1)\n",
    "\n",
    "wordCount('data')"
   ]
  },
  {
   "cell_type": "code",
   "execution_count": 126,
   "metadata": {},
   "outputs": [
    {
     "data": {
      "text/plain": [
       "2"
      ]
     },
     "execution_count": 126,
     "metadata": {},
     "output_type": "execute_result"
    }
   ],
   "source": [
    "# specific word count\n",
    "def specificWordCount(filename, word):\n",
    "    f = open(filename, 'r')\n",
    "    a = f.read()\n",
    "    list1 = a.split()\n",
    "    return list1.count(word)\n",
    "\n",
    "specificWordCount('data', 'Writing')"
   ]
  },
  {
   "cell_type": "code",
   "execution_count": 130,
   "metadata": {},
   "outputs": [
    {
     "data": {
      "text/plain": [
       "48"
      ]
     },
     "execution_count": 130,
     "metadata": {},
     "output_type": "execute_result"
    }
   ],
   "source": [
    "# character count\n",
    "def charCount(filename):\n",
    "    f = open(filename, 'r')\n",
    "    a = f.read()\n",
    "    list1 = list(a)\n",
    "    return len(list1)\n",
    "\n",
    "charCount('data')"
   ]
  },
  {
   "cell_type": "code",
   "execution_count": 131,
   "metadata": {},
   "outputs": [
    {
     "data": {
      "text/plain": [
       "2"
      ]
     },
     "execution_count": 131,
     "metadata": {},
     "output_type": "execute_result"
    }
   ],
   "source": [
    "#find number of lines in the given input stream\n",
    "def lineCount(filename):\n",
    "    f = open(filename, 'r')\n",
    "    a = f.read()\n",
    "    list1 = a.split(\"\\n\")\n",
    "    return len(list1)\n",
    "\n",
    "lineCount('data')"
   ]
  },
  {
   "cell_type": "code",
   "execution_count": 137,
   "metadata": {},
   "outputs": [
    {
     "name": "stdout",
     "output_type": "stream",
     "text": [
      "('Upper Count: ', 2)\n",
      "('Lower Count: ', 40)\n"
     ]
    }
   ],
   "source": [
    "def upperLowerCount(filename):\n",
    "    f = open(filename, 'r')\n",
    "    a = f.read()\n",
    "    lower_count = 0\n",
    "    upper_count = 0\n",
    "    list1 = list(a)\n",
    "    for i in list1:\n",
    "        if((i != \" \") and (i != \"\\n\")):\n",
    "            if(i == i.upper()):\n",
    "                upper_count = upper_count + 1\n",
    "            else:\n",
    "                lower_count = lower_count + 1\n",
    "    print(\"Upper Count: \", upper_count)\n",
    "    print(\"Lower Count: \", lower_count)\n",
    "    \n",
    "upperLowerCount('data')"
   ]
  }
 ],
 "metadata": {
  "kernelspec": {
   "display_name": "Python 2",
   "language": "python",
   "name": "python2"
  },
  "language_info": {
   "codemirror_mode": {
    "name": "ipython",
    "version": 2
   },
   "file_extension": ".py",
   "mimetype": "text/x-python",
   "name": "python",
   "nbconvert_exporter": "python",
   "pygments_lexer": "ipython2",
   "version": "2.7.15"
  }
 },
 "nbformat": 4,
 "nbformat_minor": 2
}
